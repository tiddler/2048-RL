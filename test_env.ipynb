{
 "cells": [
  {
   "cell_type": "code",
   "execution_count": 1,
   "metadata": {},
   "outputs": [],
   "source": [
    "from agent.dqn_agent import DQNAgent"
   ]
  },
  {
   "cell_type": "code",
   "execution_count": 2,
   "metadata": {},
   "outputs": [],
   "source": [
    "import envs\n",
    "import gym"
   ]
  },
  {
   "cell_type": "code",
   "execution_count": 3,
   "metadata": {},
   "outputs": [],
   "source": [
    "env = gym.make('2048-v0')\n",
    "agent = DQNAgent(env)"
   ]
  },
  {
   "cell_type": "code",
   "execution_count": 4,
   "metadata": {
    "scrolled": true
   },
   "outputs": [
    {
     "name": "stdout",
     "output_type": "stream",
     "text": [
      "total_reward:  824\n",
      "total_reward:  1272\n",
      "total_reward:  2044\n",
      "total_reward:  436\n",
      "total_reward:  172\n",
      "total_reward:  548\n",
      "total_reward:  1146\n",
      "total_reward:  470\n",
      "total_reward:  1324\n",
      "total_reward:  552\n",
      "total_reward:  962\n",
      "total_reward:  862\n",
      "total_reward:  1848\n",
      "total_reward:  172\n",
      "total_reward:  1276\n",
      "total_reward:  306\n",
      "total_reward:  1198\n",
      "total_reward:  956\n",
      "total_reward:  872\n",
      "total_reward:  488\n",
      "total_reward:  396\n",
      "total_reward:  430\n",
      "total_reward:  208\n",
      "total_reward:  -104\n",
      "total_reward:  738\n",
      "total_reward:  460\n",
      "total_reward:  616\n",
      "total_reward:  314\n",
      "total_reward:  470\n",
      "total_reward:  764\n",
      "total_reward:  -110\n",
      "total_reward:  846\n",
      "total_reward:  212\n",
      "total_reward:  270\n",
      "total_reward:  812\n",
      "total_reward:  16\n",
      "total_reward:  726\n",
      "total_reward:  572\n",
      "total_reward:  710\n",
      "total_reward:  226\n",
      "total_reward:  154\n",
      "total_reward:  24\n",
      "total_reward:  952\n",
      "total_reward:  378\n",
      "total_reward:  1456\n",
      "total_reward:  626\n",
      "total_reward:  676\n",
      "total_reward:  -104\n",
      "total_reward:  -108\n",
      "total_reward:  436\n",
      "total_reward:  332\n",
      "total_reward:  -104\n",
      "total_reward:  -104\n",
      "total_reward:  -106\n",
      "total_reward:  -110\n",
      "total_reward:  -106\n",
      "total_reward:  -110\n",
      "total_reward:  -110\n",
      "total_reward:  -108\n",
      "total_reward:  -110\n",
      "total_reward:  -102\n",
      "total_reward:  -106\n",
      "total_reward:  -104\n",
      "total_reward:  266\n",
      "total_reward:  148\n",
      "total_reward:  556\n",
      "total_reward:  806\n",
      "total_reward:  258\n",
      "total_reward:  -106\n",
      "total_reward:  -104\n",
      "total_reward:  -102\n",
      "total_reward:  436\n",
      "total_reward:  -108\n",
      "total_reward:  -106\n",
      "total_reward:  110\n",
      "total_reward:  16\n",
      "total_reward:  98\n",
      "total_reward:  480\n",
      "Wall time: 32.7 s\n"
     ]
    }
   ],
   "source": [
    "%%time\n",
    "scores, loss_record = agent.train(num_step=10000)"
   ]
  },
  {
   "cell_type": "code",
   "execution_count": 5,
   "metadata": {},
   "outputs": [
    {
     "data": {
      "text/plain": [
       "Counter({2: 1, 4: 2, 8: 5, 16: 9, 32: 6, 64: 26, 128: 26, 256: 3})"
      ]
     },
     "execution_count": 5,
     "metadata": {},
     "output_type": "execute_result"
    }
   ],
   "source": [
    "agent.get_summary(scores)"
   ]
  },
  {
   "cell_type": "code",
   "execution_count": 6,
   "metadata": {},
   "outputs": [],
   "source": [
    "import matplotlib.pyplot as plt"
   ]
  },
  {
   "cell_type": "code",
   "execution_count": 7,
   "metadata": {},
   "outputs": [
    {
     "data": {
      "text/plain": [
       "[<matplotlib.lines.Line2D at 0x2ca18186748>]"
      ]
     },
     "execution_count": 7,
     "metadata": {},
     "output_type": "execute_result"
    },
    {
     "data": {
      "image/png": "[encoded data removed]",
      "text/plain": [
       "<Figure size 432x288 with 1 Axes>"
      ]
     },
     "metadata": {},
     "output_type": "display_data"
    }
   ],
   "source": [
    "plt.plot(loss_record)"
   ]
  },
  {
   "cell_type": "code",
   "execution_count": 50,
   "metadata": {},
   "outputs": [
    {
     "name": "stdout",
     "output_type": "stream",
     "text": [
      "final score:  200.0\n",
      "final score:  200.0\n",
      "final score:  200.0\n",
      "final score:  200.0\n",
      "final score:  200.0\n"
     ]
    }
   ],
   "source": [
    "agent.test()"
   ]
  }
 ],
 "metadata": {
  "kernelspec": {
   "display_name": "Python 3",
   "language": "python",
   "name": "python3"
  },
  "language_info": {
   "codemirror_mode": {
    "name": "ipython",
    "version": 3
   },
   "file_extension": ".py",
   "mimetype": "text/x-python",
   "name": "python",
   "nbconvert_exporter": "python",
   "pygments_lexer": "ipython3",
   "version": "3.6.4"
  }
 },
 "nbformat": 4,
 "nbformat_minor": 2
}
